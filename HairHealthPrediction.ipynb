{
 "cells": [
  {
   "cell_type": "code",
   "execution_count": null,
   "id": "0ccb5a78-7cc2-4476-aace-a2b2702c609b",
   "metadata": {},
   "outputs": [],
   "source": [
    "import numpy as np\n",
    "import pandas as pd\n",
    "import matplotlib.pyplot as plt\n",
    "import seaborn as sns "
   ]
  },
  {
   "cell_type": "code",
   "execution_count": null,
   "id": "46611429-8283-4f2d-a440-cbadc0af6564",
   "metadata": {},
   "outputs": [],
   "source": [
    "from scipy.stats import chi2_contingency, pointbiserialr\n",
    "from sklearn.model_selection import train_test_split, GridSearchCV\n",
    "from sklearn.feature_selection import RFECV\n",
    "from sklearn.linear_model import LogisticRegression\n",
    "from sklearn.preprocessing import MinMaxScaler\n",
    "from sklearn.metrics import confusion_matrix, classification_report, ConfusionMatrixDisplay\n",
    "from sklearn.metrics import roc_curve, auc\n",
    "from sklearn.svm import SVC\n",
    "from sklearn.tree import DecisionTreeClassifier\n",
    "from sklearn.ensemble import RandomForestClassifier, GradientBoostingClassifier\n",
    "from sklearn.neighbors import KNeighborsClassifier\n",
    "from sklearn.naive_bayes import BernoulliNB"
   ]
  },
  {
   "cell_type": "code",
   "execution_count": null,
   "id": "37aa83e9-d112-4754-9a3f-7a86afc35dd1",
   "metadata": {},
   "outputs": [],
   "source": [
    "hair = pd.read_csv('Predict Hair Fall.csv')"
   ]
  },
  {
   "cell_type": "code",
   "execution_count": null,
   "id": "7a047dc4-8b36-451a-a148-15ed1d56f1bf",
   "metadata": {},
   "outputs": [],
   "source": [
    "hair.head()"
   ]
  },
  {
   "cell_type": "code",
   "execution_count": null,
   "id": "bfa6898e-5dd4-4f57-9742-151029e25948",
   "metadata": {},
   "outputs": [],
   "source": [
    "hair.info()"
   ]
  },
  {
   "cell_type": "markdown",
   "id": "4a1d9c33-9b20-4948-aaa2-811c55316f11",
   "metadata": {},
   "source": [
    "At the beginning we can remove Id column, is useful for our analysis "
   ]
  },
  {
   "cell_type": "code",
   "execution_count": null,
   "id": "f7f22f74-b1e4-42a1-aa7b-3b0cb1c83603",
   "metadata": {},
   "outputs": [],
   "source": [
    "hair.columns = hair.columns.str.strip().str.replace(' ', '_')\n",
    "hair.rename(columns = {'Medications_&_Treatments':'Medications&Treatments'}, inplace = True)"
   ]
  },
  {
   "cell_type": "code",
   "execution_count": null,
   "id": "dd331fb1-87fd-451a-ac98-3cfa7c262b25",
   "metadata": {},
   "outputs": [],
   "source": [
    "hair.drop('Id', axis = 1, inplace = True)"
   ]
  },
  {
   "cell_type": "code",
   "execution_count": null,
   "id": "a7f63560-237e-48be-a3e6-d2c9ed585f24",
   "metadata": {},
   "outputs": [],
   "source": [
    "hair.info()"
   ]
  },
  {
   "cell_type": "code",
   "execution_count": null,
   "id": "cf8d7fff-72cf-4236-bd97-df0aaec5e717",
   "metadata": {},
   "outputs": [],
   "source": [
    "hair.describe().T"
   ]
  },
  {
   "cell_type": "markdown",
   "id": "4712b8cc-f4a3-47c3-925f-8297f27bb07c",
   "metadata": {},
   "source": [
    "We don't have any null values so work in this field is not required"
   ]
  },
  {
   "cell_type": "code",
   "execution_count": null,
   "id": "ec64f250-ace6-4f48-a77e-9f2c724970ee",
   "metadata": {},
   "outputs": [],
   "source": [
    "hair.isna().sum()"
   ]
  },
  {
   "cell_type": "code",
   "execution_count": null,
   "id": "82456f19-c43f-47c7-9a1c-c72042e239d7",
   "metadata": {},
   "outputs": [],
   "source": [
    "hair[hair.duplicated()]"
   ]
  },
  {
   "cell_type": "code",
   "execution_count": null,
   "id": "511f92a0-25d3-45c8-80e4-f315299702ea",
   "metadata": {},
   "outputs": [],
   "source": [
    "hair.drop_duplicates(inplace=True, ignore_index=True)"
   ]
  },
  {
   "cell_type": "code",
   "execution_count": null,
   "id": "ff648eb5-5cf8-44e0-b2b6-65938a1952a2",
   "metadata": {},
   "outputs": [],
   "source": [
    "hair.duplicated().sum()"
   ]
  },
  {
   "cell_type": "code",
   "execution_count": null,
   "id": "b7348130-332e-42fa-bd75-a54b8591d3b6",
   "metadata": {},
   "outputs": [],
   "source": [
    "counts =  hair['Hair_Loss'].value_counts()"
   ]
  },
  {
   "cell_type": "code",
   "execution_count": null,
   "id": "7da1f2b0-b7b5-4525-b787-f218abc06b64",
   "metadata": {},
   "outputs": [],
   "source": [
    "sns.set_style(\"whitegrid\")\n",
    "plt.pie(counts, autopct='%1.1f%%',colors = ['cornflowerblue','darksalmon'], \n",
    "         textprops={'fontsize': 12})\n",
    "plt.legend(labels = ['Person is bold', 'Person is not bold'], bbox_to_anchor=(1.2, 1.0))"
   ]
  },
  {
   "cell_type": "code",
   "execution_count": null,
   "id": "8330bc70-9d66-4c2e-9591-26b2db609195",
   "metadata": {},
   "outputs": [],
   "source": [
    "canvas = sns.FacetGrid(hair, col='Hair_Loss')\n",
    "canvas.map(sns.histplot, 'Age', bins = 12, color = 'thistle', kde = True)"
   ]
  },
  {
   "cell_type": "code",
   "execution_count": null,
   "id": "65718bf1-fa00-4eb5-979d-03c4281539aa",
   "metadata": {},
   "outputs": [],
   "source": [
    "plt.figure(figsize = (8,5))\n",
    "sns.countplot(hair, x= 'Stress', hue = 'Hair_Loss', palette = 'Paired')"
   ]
  },
  {
   "cell_type": "code",
   "execution_count": null,
   "id": "fa131f22-dd72-4a65-8133-070bbe6c3c6d",
   "metadata": {},
   "outputs": [],
   "source": [
    "plt.figure(figsize=(10, 7))\n",
    "sns.countplot(hair, y = 'Medical_Conditions', hue = 'Hair_Loss', palette = 'muted')"
   ]
  },
  {
   "cell_type": "code",
   "execution_count": null,
   "id": "25b2c831-6661-415b-a4bb-53e0fccbf0c4",
   "metadata": {},
   "outputs": [],
   "source": [
    "plt.figure(figsize=(10, 7))\n",
    "sns.countplot(hair, y = 'Medications&Treatments', hue = 'Hair_Loss', palette = 'muted')"
   ]
  },
  {
   "cell_type": "code",
   "execution_count": null,
   "id": "44334448-1ffc-49fd-8c48-6bec764f3c94",
   "metadata": {},
   "outputs": [],
   "source": [
    "plt.figure(figsize=(10, 7))\n",
    "sns.countplot(hair, y = 'Nutritional_Deficiencies', hue = 'Hair_Loss', palette = 'muted')"
   ]
  },
  {
   "cell_type": "code",
   "execution_count": null,
   "id": "25212b8f-a7d4-4cab-86c8-1d498aca47ee",
   "metadata": {},
   "outputs": [],
   "source": [
    "categorical = ['Genetics', 'Hormonal_Changes', 'Poor_Hair_Care_Habits', 'Environmental_Factors', 'Smoking', 'Weight_Loss']\n",
    "\n",
    "fig, axes = plt.subplots(2, 3, figsize=(12, 10))  \n",
    "\n",
    "for ax, category in zip(axes.flatten(), categorical):\n",
    "    counts = hair[category].value_counts()\n",
    "    ax.pie(counts, labels=counts.index, autopct='%1.1f%%', colors=['skyblue', 'pink'])\n",
    "    ax.set_title(category.replace('_', ' '))"
   ]
  },
  {
   "cell_type": "code",
   "execution_count": null,
   "id": "3061e7af-1667-43b3-878f-e7a3a8f873d1",
   "metadata": {},
   "outputs": [],
   "source": [
    "hair.info()"
   ]
  },
  {
   "cell_type": "code",
   "execution_count": null,
   "id": "413c1e74-e9ab-493a-99b7-d1f22145ee0e",
   "metadata": {},
   "outputs": [],
   "source": [
    "hair.apply(lambda x: x.unique())"
   ]
  },
  {
   "cell_type": "markdown",
   "id": "4f081aa5-e7b1-478c-bdf1-d6235db14929",
   "metadata": {},
   "source": [
    "Let's change all yes no columns to binary"
   ]
  },
  {
   "cell_type": "code",
   "execution_count": null,
   "id": "186afb92-f0d5-4973-8c5b-ec2d469a1915",
   "metadata": {},
   "outputs": [],
   "source": [
    "binary_columns = ['Genetics', 'Hormonal_Changes', 'Poor_Hair_Care_Habits', 'Environmental_Factors', 'Smoking', 'Weight_Loss']\n",
    "\n",
    "def change_colums(df, columns):\n",
    "    for column in columns:\n",
    "        df[column] = df[column].map({'Yes':1, 'No':0})\n",
    "change_colums(hair,binary_columns)"
   ]
  },
  {
   "cell_type": "code",
   "execution_count": null,
   "id": "5768c939-575f-4ec8-9faa-bd854183b8d0",
   "metadata": {},
   "outputs": [],
   "source": [
    "hair.apply(lambda x: x.unique())"
   ]
  },
  {
   "cell_type": "markdown",
   "id": "e0470a86-2e11-4d1e-bb81-99c9ea7ddd4a",
   "metadata": {},
   "source": [
    "Modifiaction column with order - Stress                                                  "
   ]
  },
  {
   "cell_type": "code",
   "execution_count": null,
   "id": "520e46c5-60c2-4d79-b315-1564b51a8c7e",
   "metadata": {},
   "outputs": [],
   "source": [
    "hair['Stress'] = hair['Stress'].map({'Low': 1, 'Moderate' : 2, 'High' : 3})"
   ]
  },
  {
   "cell_type": "code",
   "execution_count": null,
   "id": "dec5c4b9-3f75-42bf-adb1-d68fa7b45679",
   "metadata": {},
   "outputs": [],
   "source": [
    "hair.apply(lambda x: x.unique())"
   ]
  },
  {
   "cell_type": "code",
   "execution_count": null,
   "id": "79f8165c-c196-4bbe-999c-3927e9c4128e",
   "metadata": {},
   "outputs": [],
   "source": [
    "hair['Medical_Conditions'].value_counts()"
   ]
  },
  {
   "cell_type": "code",
   "execution_count": null,
   "id": "bb69a4b8-f3fe-493a-b04e-b38fefc726ea",
   "metadata": {},
   "outputs": [],
   "source": [
    "hair['Medications&Treatments'].value_counts()"
   ]
  },
  {
   "cell_type": "code",
   "execution_count": null,
   "id": "2538cf85-078e-4224-bdee-87dd563156cf",
   "metadata": {},
   "outputs": [],
   "source": [
    "hair['Nutritional_Deficiencies'].value_counts()"
   ]
  },
  {
   "cell_type": "code",
   "execution_count": null,
   "id": "ef14822f-26aa-4d5a-bf7a-da79efb47fa4",
   "metadata": {},
   "outputs": [],
   "source": [
    "hair = pd.get_dummies(hair,columns = ['Nutritional_Deficiencies','Medications&Treatments', 'Medical_Conditions'],drop_first=True )"
   ]
  },
  {
   "cell_type": "code",
   "execution_count": null,
   "id": "e0e3df78-3cbc-4372-9f25-482cc03c5444",
   "metadata": {},
   "outputs": [],
   "source": [
    "hair.columns"
   ]
  },
  {
   "cell_type": "code",
   "execution_count": null,
   "id": "ace58a96-396b-442f-8318-7077c93c6a0b",
   "metadata": {},
   "outputs": [],
   "source": [
    "hair = hair.loc[:, ~hair.columns.str.contains('No Data')]"
   ]
  },
  {
   "cell_type": "code",
   "execution_count": null,
   "id": "dd5ce4b5-559a-46af-bbdd-3c84be96fca6",
   "metadata": {},
   "outputs": [],
   "source": [
    "hair.columns"
   ]
  },
  {
   "cell_type": "code",
   "execution_count": null,
   "id": "beadbf60-96e2-4bad-a524-ee32a864a2f0",
   "metadata": {},
   "outputs": [],
   "source": [
    "hair.info()"
   ]
  },
  {
   "cell_type": "code",
   "execution_count": null,
   "id": "2ebf10c0-ed11-4dbe-a7e8-ec6b43d6a180",
   "metadata": {},
   "outputs": [],
   "source": [
    "hair.head()"
   ]
  },
  {
   "cell_type": "code",
   "execution_count": null,
   "id": "4e375ea2-e679-4f1e-936a-7b6ccafc2682",
   "metadata": {},
   "outputs": [],
   "source": [
    "ref = 'Hair_Loss'\n",
    "selected = hair.drop(['Age','Hair_Loss' ],axis = 1)\n",
    "result_list = []\n",
    "\n",
    "for col in selected.columns:\n",
    "    if col != ref:\n",
    "        contingency_table = pd.crosstab(hair[ref], selected[col])\n",
    "        chi2, p, dof, _ = chi2_contingency(contingency_table)\n",
    "        result_list.append({'Zmienna': col, 'Chi2': chi2, 'p-value': p})\n",
    "result_df = pd.DataFrame(result_list)"
   ]
  },
  {
   "cell_type": "code",
   "execution_count": null,
   "id": "e835aeca-ac0c-477c-b697-ba55dbd0465d",
   "metadata": {},
   "outputs": [],
   "source": [
    "def highlight(s):\n",
    "    if s['p-value'] < 0.25 :\n",
    "        return ['background-color: skyblue'] * len(s)"
   ]
  },
  {
   "cell_type": "code",
   "execution_count": null,
   "id": "2a098765-6538-417e-a243-b0b76af57ddb",
   "metadata": {},
   "outputs": [],
   "source": [
    "result_df.sort_values(by = 'p-value').style.apply(highlight, axis=1)"
   ]
  },
  {
   "cell_type": "code",
   "execution_count": null,
   "id": "b5187649-251b-4f76-ab48-4bd1b8f98ae3",
   "metadata": {},
   "outputs": [],
   "source": [
    "corr, p_value = pointbiserialr(hair['Hair_Loss'], hair['Age'])\n",
    "print(f'correlation = {corr}, p_value = {p_value}')"
   ]
  },
  {
   "cell_type": "code",
   "execution_count": null,
   "id": "e25a69c5-85c5-401b-bcfd-2a5054d0506a",
   "metadata": {},
   "outputs": [],
   "source": [
    "X = hair.drop('Hair_Loss', axis = 1)\n",
    "y = hair['Hair_Loss']"
   ]
  },
  {
   "cell_type": "code",
   "execution_count": null,
   "id": "6fa9521c-ee22-44e3-97d5-ab95ccdefce5",
   "metadata": {},
   "outputs": [],
   "source": [
    "X_train, X_test, y_train, y_test = train_test_split(X, y, test_size=0.2, random_state=101)"
   ]
  },
  {
   "cell_type": "code",
   "execution_count": null,
   "id": "8ed3f67e-c442-40d1-abeb-8109837789e9",
   "metadata": {},
   "outputs": [],
   "source": [
    "print(X_train.shape, X_test.shape)"
   ]
  },
  {
   "cell_type": "markdown",
   "id": "f052924d-1d14-4022-9cc9-a883ab0ca6b3",
   "metadata": {},
   "source": [
    "## Our data are quite balanced"
   ]
  },
  {
   "cell_type": "code",
   "execution_count": null,
   "id": "55e7db46-3948-4a83-826c-9862cb6ff986",
   "metadata": {},
   "outputs": [],
   "source": [
    "print(y_train.value_counts())\n",
    "print(y_test.value_counts())"
   ]
  },
  {
   "cell_type": "code",
   "execution_count": null,
   "id": "d17198c8-0a0d-4bfa-a5d9-289895a96a97",
   "metadata": {},
   "outputs": [],
   "source": [
    "scaler = MinMaxScaler().fit(X_train['Age'].values.reshape(-1, 1))\n",
    "X_train['Age'] = scaler.transform(X_train['Age'].values.reshape(-1, 1))\n",
    "X_test['Age']  = scaler.transform(X_test['Age'].values.reshape(-1, 1))"
   ]
  },
  {
   "cell_type": "code",
   "execution_count": null,
   "id": "4ddc5458-3b05-47c7-850a-350e6f81295b",
   "metadata": {},
   "outputs": [],
   "source": [
    "def ModelFinder(X_train, y_train, estimator, param_grid):\n",
    "    try:\n",
    "        # Check if the estimator has coef_ or feature_importances_ attributes required by RFECV\n",
    "        if hasattr(estimator.fit(X_train,y_train), 'coef_') or hasattr(estimator.fit(X_train,y_train), 'feature_importances_'):\n",
    "            selector = RFECV(estimator=estimator, step=1, cv=10, scoring='accuracy', n_jobs=6, min_features_to_select=5, verbose=2)\n",
    "            X_train_transformed = selector.fit_transform(X_train, y_train)\n",
    "\n",
    "            plt.title(\"RFECV - Number of Features vs. Accuracy\")\n",
    "            plt.xlabel(\"Number of Features\")\n",
    "            plt.ylabel(\"Cross-Validation Score (Accuracy)\")\n",
    "            plt.plot(range(1, len(selector.cv_results_['mean_test_score']) + 1), selector.cv_results_['mean_test_score'])\n",
    "            plt.show()\n",
    "        else:\n",
    "            # If the estimator doesn't support RFECV directly, use the full feature set\n",
    "            print(\"The estimator does not directly support RFECV. Using the full feature set.\")\n",
    "            X_train_transformed = X_train\n",
    "    except Exception as e:\n",
    "        print(f\"An error occurred during RFECV: {e}\")\n",
    "        X_train_transformed = X_train\n",
    "        if X_test is not None:\n",
    "            X_test_transformed = X_test\n",
    "\n",
    "    # GridSearchCV\n",
    "    grid_search = GridSearchCV(estimator=estimator, param_grid=param_grid, scoring='accuracy', cv=10, n_jobs=-1)\n",
    "    grid_search.fit(X_train_transformed, y_train)\n",
    "\n",
    "    # Results\n",
    "    results = {\n",
    "        'n_features': X_train_transformed.shape[1] if hasattr(estimator.fit(X_train,y_train), 'coef_') or hasattr(estimator.fit(X_train,y_train), 'feature_importances_') else \"N/A\",\n",
    "        'accuracy_score': grid_search.best_score_,\n",
    "        'best_params': grid_search.best_params_,\n",
    "    }\n",
    "    if hasattr(estimator.fit(X_train,y_train), 'coef_') or hasattr(estimator.fit(X_train,y_train), 'feature_importances_'):\n",
    "        results.update({\n",
    "            'selected_features_indices': selector.get_support(indices=True) if hasattr(selector, 'support_') else \"N/A\",\n",
    "            'selected_features_mask': selector.support_ if hasattr(selector, 'support_') else \"N/A\",\n",
    "        })\n",
    "\n",
    "    return results"
   ]
  },
  {
   "cell_type": "code",
   "execution_count": null,
   "id": "fef1f2fc-737c-4e50-98e5-99926242bf75",
   "metadata": {},
   "outputs": [],
   "source": [
    "def printInformation(X_train, y_train, X_test, y_test, model):\n",
    "    \n",
    "    test_predictions = model.predict(X_test)\n",
    "    train_predictions = model.predict(X_train)\n",
    "    \n",
    "    print('Information for test data')\n",
    "    print(classification_report(y_test, test_predictions))\n",
    "    print('Information for train data')\n",
    "    print(classification_report(y_train, train_predictions))\n",
    "    \n",
    "    cm_train = confusion_matrix(y_train, train_predictions)\n",
    "    cm_test  = confusion_matrix(y_test, test_predictions)\n",
    "    fig,ax = plt.subplots(1,2, figsize = (10,4))\n",
    "    ConfusionMatrixDisplay(confusion_matrix = cm_train,display_labels=model.classes_).plot(ax = ax[0])\n",
    "    ax[0].set_title('Training Data')\n",
    "    ax[1].set_title('Testing Data')\n",
    "    ConfusionMatrixDisplay(confusion_matrix = cm_test,display_labels=model.classes_).plot(ax = ax[1])\n",
    "    fig.suptitle('Confusion Matrix')\n",
    "\n",
    "    fpr_train, tpr_train, _ = roc_curve(y_train, train_predictions)\n",
    "    roc_auc_train = auc(fpr_train, tpr_train)\n",
    "    \n",
    "    fpr_test, tpr_test, _ = roc_curve(y_test, test_predictions)\n",
    "    roc_auc_test = auc(fpr_test, tpr_test)\n",
    "    fig, ax_roc = plt.subplots(figsize=(5, 5))\n",
    "\n",
    "    ax_roc.plot(fpr_train, tpr_train, label=f'Train ROC curve (area = {roc_auc_train:.2f})', color='blue', lw=2)\n",
    "    ax_roc.plot(fpr_test, tpr_test, label=f'Test ROC curve (area = {roc_auc_test:.2f})', color='darkorange', lw=2)\n",
    "    \n",
    "    ax_roc.plot([0, 1], [0, 1], color='navy', lw=2, linestyle='--')\n",
    "    ax_roc.set_xlim([0.0, 1.0])\n",
    "    ax_roc.set_ylim([0.0, 1.05])\n",
    "    ax_roc.set_xlabel('False Positive Rate')\n",
    "    ax_roc.set_ylabel('True Positive Rate')\n",
    "    ax_roc.set_title('Receiver Operating Characteristic (ROC)')\n",
    "    ax_roc.legend(loc=\"lower right\")\n",
    "    \n",
    "    plt.show()"
   ]
  },
  {
   "cell_type": "code",
   "execution_count": null,
   "id": "1a7a92ef-78b1-40f9-819e-662edcb3358e",
   "metadata": {},
   "outputs": [],
   "source": [
    "results_logreg = ModelFinder(X_train, y_train, LogisticRegression(max_iter=500, random_state = 101), {'C': [0.0001, 0.001, 0.001, 0.1, 1, 10, 100]})"
   ]
  },
  {
   "cell_type": "code",
   "execution_count": null,
   "id": "ca94c160-a8cf-4747-b3b7-3aa0021d487d",
   "metadata": {},
   "outputs": [],
   "source": [
    "results_logreg"
   ]
  },
  {
   "cell_type": "code",
   "execution_count": null,
   "id": "2fab2528-0c06-4635-88fd-47f06a9e0e68",
   "metadata": {},
   "outputs": [],
   "source": [
    "X_train_selected = X_train.iloc[:,results_logreg['selected_features_indices'] ]\n",
    "X_test_selected  = X_test.iloc[:,results_logreg['selected_features_indices'] ]\n",
    "X_train_selected.columns"
   ]
  },
  {
   "cell_type": "code",
   "execution_count": null,
   "id": "8b2ef270-9f7c-46e7-9fdf-5a4ffd989d84",
   "metadata": {},
   "outputs": [],
   "source": [
    "logreg = LogisticRegression(C = 10,random_state= 101).fit(X_train_selected, y_train).fit(X_train_selected, y_train)   "
   ]
  },
  {
   "cell_type": "code",
   "execution_count": null,
   "id": "e9c5da47-5eef-4bf5-9bd3-eb16eed5c8c7",
   "metadata": {},
   "outputs": [],
   "source": [
    " printInformation(X_train_selected, y_train, X_test_selected, y_test, logreg)"
   ]
  },
  {
   "cell_type": "code",
   "execution_count": null,
   "id": "93fd9b6e-2a27-4724-8833-aedfa136af3f",
   "metadata": {},
   "outputs": [],
   "source": [
    "results_tree = ModelFinder(X_train, y_train, DecisionTreeClassifier(random_state= 101),\n",
    "                        { 'max_depth': [2 * x for x in range(2,8)], \n",
    "                         'criterion':['gini','entropy']})"
   ]
  },
  {
   "cell_type": "code",
   "execution_count": null,
   "id": "8b0dcdd2-347f-4be8-9a1e-dce6be3270e5",
   "metadata": {},
   "outputs": [],
   "source": [
    "results_tree"
   ]
  },
  {
   "cell_type": "code",
   "execution_count": null,
   "id": "d39f79d1-5b16-470d-b76e-6419a715644b",
   "metadata": {},
   "outputs": [],
   "source": [
    "X_train_selected = X_train.iloc[:,results_tree['selected_features_indices'] ]\n",
    "X_test_selected  = X_test.iloc[:,results_tree['selected_features_indices'] ]\n",
    "X_train_selected.columns"
   ]
  },
  {
   "cell_type": "code",
   "execution_count": null,
   "id": "0cc4105c-edcb-4f86-82d6-a98111305e8b",
   "metadata": {},
   "outputs": [],
   "source": [
    "tree = DecisionTreeClassifier(random_state= 101, criterion = 'entropy', max_depth= 8).fit(X_train_selected,y_train)"
   ]
  },
  {
   "cell_type": "code",
   "execution_count": null,
   "id": "c4353acd-e4fa-48ec-ad90-92fb7a14ded6",
   "metadata": {},
   "outputs": [],
   "source": [
    "printInformation(X_train_selected, y_train, X_test_selected, y_test, tree)"
   ]
  },
  {
   "cell_type": "code",
   "execution_count": null,
   "id": "c2765ccd-0631-42e0-8c0d-7a0e578e99d1",
   "metadata": {},
   "outputs": [],
   "source": [
    "results_forest = ModelFinder(X_train, y_train, RandomForestClassifier(random_state=101),\n",
    "                            {'n_estimators': [5, 10, 50, 100, 200],  \n",
    "                             'max_depth': [2 * x for x in range(2,8)],  \n",
    "                             'criterion' :['gini', 'entropy']\n",
    "                            })"
   ]
  },
  {
   "cell_type": "code",
   "execution_count": null,
   "id": "e22592a5-73b7-46c9-9dc1-da5959581954",
   "metadata": {},
   "outputs": [],
   "source": [
    "results_forest"
   ]
  },
  {
   "cell_type": "code",
   "execution_count": null,
   "id": "f1c6a80e-c1aa-4a5d-9de4-942f3fb26b51",
   "metadata": {},
   "outputs": [],
   "source": [
    "X_train_selected = X_train.iloc[:,results_forest['selected_features_indices'] ]\n",
    "X_test_selected = X_test.iloc[:,results_forest['selected_features_indices'] ]\n",
    "X_train_selected.columns"
   ]
  },
  {
   "cell_type": "code",
   "execution_count": null,
   "id": "2d39e6bb-2f5a-4c3a-8309-280906cf9b68",
   "metadata": {},
   "outputs": [],
   "source": [
    "forest = RandomForestClassifier(random_state=101, max_depth= 14, criterion= 'entropy',  n_estimators = 5).fit(X_train_selected,y_train)"
   ]
  },
  {
   "cell_type": "code",
   "execution_count": null,
   "id": "66fb7a0a-ecc2-4797-b57f-305315149b48",
   "metadata": {},
   "outputs": [],
   "source": [
    "printInformation(X_train_selected, y_train, X_test_selected, y_test, forest)"
   ]
  },
  {
   "cell_type": "code",
   "execution_count": null,
   "id": "6f059a7f-033b-42a8-b858-eb9d682be7a6",
   "metadata": {},
   "outputs": [],
   "source": [
    "results_gbc = ModelFinder(X_train, y_train, GradientBoostingClassifier(random_state=101),\n",
    "                         {'n_estimators': [5, 10, 50, 100, 200],  # Liczba drzew\n",
    "                          'max_depth': [2 * x for x in range(2,8)],  # Maksymalna głębokość drzewa\n",
    "                          'criterion' :['friedman_mse', 'squared_error'],\n",
    "                          'learning_rate': [ 0.025, 0.05, 0.1, 0.2]\n",
    "                         })"
   ]
  },
  {
   "cell_type": "code",
   "execution_count": null,
   "id": "457e2ce6-bee2-4a87-87e3-401d9e21aba9",
   "metadata": {},
   "outputs": [],
   "source": [
    "results_gbc"
   ]
  },
  {
   "cell_type": "code",
   "execution_count": null,
   "id": "bdb48866-2927-47d0-90de-ea1e23e8a8a4",
   "metadata": {},
   "outputs": [],
   "source": [
    "X_train_selected = X_train.iloc[:,results_gbc['selected_features_indices'] ]\n",
    "X_test_selected = X_test.iloc[:,results_gbc['selected_features_indices'] ]\n",
    "X_train_selected.columns"
   ]
  },
  {
   "cell_type": "code",
   "execution_count": null,
   "id": "1416e90e-f423-4cb4-9ab8-03297a87ef95",
   "metadata": {},
   "outputs": [],
   "source": [
    "gbc = GradientBoostingClassifier(random_state=101, max_depth= 4, criterion= 'friedman_mse',  n_estimators = 200, learning_rate = 0.1).fit(X_train_selected,y_train)"
   ]
  },
  {
   "cell_type": "code",
   "execution_count": null,
   "id": "33fb7a11-57d7-4b68-b04f-a05665a1757e",
   "metadata": {},
   "outputs": [],
   "source": [
    "printInformation(X_train_selected, y_train, X_test_selected, y_test, gbc)"
   ]
  },
  {
   "cell_type": "code",
   "execution_count": null,
   "id": "a5a7bc54-4055-403d-9a1a-803e7e1eac42",
   "metadata": {},
   "outputs": [],
   "source": [
    "results_knc = ModelFinder(X_train, y_train, KNeighborsClassifier(),\n",
    "              {'weights': ['uniform', 'distance'],  # Liczba drzew\n",
    "               'n_neighbors': [5, 7, 9, 11, 15, 33, 66, 99],\n",
    "               'metric': ['euclidean', 'manhattan']\n",
    "              })"
   ]
  },
  {
   "cell_type": "code",
   "execution_count": null,
   "id": "198b0bed-f184-4adf-92d8-53659df8be58",
   "metadata": {},
   "outputs": [],
   "source": [
    "results_knc"
   ]
  },
  {
   "cell_type": "code",
   "execution_count": null,
   "id": "72d1fb09-58a1-4e79-9a56-e79529d01e47",
   "metadata": {},
   "outputs": [],
   "source": [
    "knc = KNeighborsClassifier(n_neighbors= 9, weights='distance', metric = 'manhattan').fit(X_train, y_train)"
   ]
  },
  {
   "cell_type": "code",
   "execution_count": null,
   "id": "c84842c5-057b-4fcc-8e3b-cc0f03ed338c",
   "metadata": {},
   "outputs": [],
   "source": [
    "printInformation(X_train, y_train, X_test, y_test, knc)"
   ]
  },
  {
   "cell_type": "code",
   "execution_count": null,
   "id": "182e81eb-b115-495b-bc34-ba16c79910dc",
   "metadata": {},
   "outputs": [],
   "source": [
    "results_svc = ModelFinder(X_train, y_train, SVC(random_state=101),\n",
    "             {'C': [0.1, 1, 10, 100],  \n",
    "              'gamma': [1, 0.1, 0.01, 0.001],  \n",
    "              'kernel': ['rbf', 'poly', 'sigmoid']\n",
    "             })"
   ]
  },
  {
   "cell_type": "code",
   "execution_count": null,
   "id": "c00c83c8-71f0-454c-99be-eabad9f686de",
   "metadata": {},
   "outputs": [],
   "source": [
    "results_svc"
   ]
  },
  {
   "cell_type": "code",
   "execution_count": null,
   "id": "cfd8f16b-b319-4734-9351-9d17d1e6d7d6",
   "metadata": {},
   "outputs": [],
   "source": [
    "svc = SVC(random_state=101, C = 10, gamma = 0.1, kernel='sigmoid').fit(X_train, y_train) "
   ]
  },
  {
   "cell_type": "code",
   "execution_count": null,
   "id": "32052c99-5f5f-48fe-b5d5-0bbba28214fb",
   "metadata": {},
   "outputs": [],
   "source": [
    "printInformation(X_train, y_train, X_test, y_test, svc)"
   ]
  },
  {
   "cell_type": "code",
   "execution_count": null,
   "id": "464338ff-7f8a-47ae-a81f-ac806ff17851",
   "metadata": {},
   "outputs": [],
   "source": [
    "results_naive = ModelFinder(X_train, y_train, BernoulliNB(),\n",
    "               {'alpha': [0.01, 0.1, 1.0, 10.0], \n",
    "                'binarize': [0.0, 0.1, 0.2],  \n",
    "               })\n"
   ]
  },
  {
   "cell_type": "code",
   "execution_count": null,
   "id": "ab0dbe01-2584-4bc1-8a3c-e58f6de3cb80",
   "metadata": {},
   "outputs": [],
   "source": [
    "results_naive"
   ]
  },
  {
   "cell_type": "code",
   "execution_count": null,
   "id": "f47ce5d8-6cbc-4ea1-b933-39bcab7b920d",
   "metadata": {},
   "outputs": [],
   "source": [
    "naive = BernoulliNB( alpha = 0.1, binarize= 0.1).fit(X_train, y_train)"
   ]
  },
  {
   "cell_type": "code",
   "execution_count": null,
   "id": "26cd8437-c041-4cdc-96de-30f9b81cd340",
   "metadata": {},
   "outputs": [],
   "source": [
    "printInformation(X_train, y_train, X_test, y_test, naive)"
   ]
  }
 ],
 "metadata": {
  "kernelspec": {
   "display_name": "Python 3 (ipykernel)",
   "language": "python",
   "name": "python3"
  },
  "language_info": {
   "codemirror_mode": {
    "name": "ipython",
    "version": 3
   },
   "file_extension": ".py",
   "mimetype": "text/x-python",
   "name": "python",
   "nbconvert_exporter": "python",
   "pygments_lexer": "ipython3",
   "version": "3.9.18"
  }
 },
 "nbformat": 4,
 "nbformat_minor": 5
}

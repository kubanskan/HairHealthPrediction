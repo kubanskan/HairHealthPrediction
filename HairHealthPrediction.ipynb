{
 "cells": [
  {
   "cell_type": "code",
   "execution_count": null,
   "id": "0ccb5a78-7cc2-4476-aace-a2b2702c609b",
   "metadata": {},
   "outputs": [],
   "source": [
    "import numpy as np\n",
    "import pandas as pd\n",
    "import matplotlib.pyplot as plt\n",
    "import seaborn as sns "
   ]
  },
  {
   "cell_type": "code",
   "execution_count": null,
   "id": "37aa83e9-d112-4754-9a3f-7a86afc35dd1",
   "metadata": {},
   "outputs": [],
   "source": [
    "hair = pd.read_csv('Predict Hair Fall.csv')"
   ]
  },
  {
   "cell_type": "code",
   "execution_count": null,
   "id": "7a047dc4-8b36-451a-a148-15ed1d56f1bf",
   "metadata": {},
   "outputs": [],
   "source": [
    "hair.head()"
   ]
  },
  {
   "cell_type": "code",
   "execution_count": null,
   "id": "bfa6898e-5dd4-4f57-9742-151029e25948",
   "metadata": {},
   "outputs": [],
   "source": [
    "hair.info()"
   ]
  },
  {
   "cell_type": "markdown",
   "id": "4a1d9c33-9b20-4948-aaa2-811c55316f11",
   "metadata": {},
   "source": [
    "At the beginning we can remove Id column, is useful for our analysis "
   ]
  },
  {
   "cell_type": "code",
   "execution_count": null,
   "id": "f7f22f74-b1e4-42a1-aa7b-3b0cb1c83603",
   "metadata": {},
   "outputs": [],
   "source": [
    "hair.columns = hair.columns.str.strip().str.replace(' ', '_')\n",
    "hair.rename(columns = {'Medications_&_Treatments':'Medications&Treatments'}, inplace = True)"
   ]
  },
  {
   "cell_type": "code",
   "execution_count": null,
   "id": "dd331fb1-87fd-451a-ac98-3cfa7c262b25",
   "metadata": {},
   "outputs": [],
   "source": [
    "hair.drop('Id', axis = 1, inplace = True)"
   ]
  },
  {
   "cell_type": "code",
   "execution_count": null,
   "id": "a7f63560-237e-48be-a3e6-d2c9ed585f24",
   "metadata": {},
   "outputs": [],
   "source": [
    "hair.info()"
   ]
  },
  {
   "cell_type": "code",
   "execution_count": null,
   "id": "cf8d7fff-72cf-4236-bd97-df0aaec5e717",
   "metadata": {},
   "outputs": [],
   "source": [
    "hair.describe().T"
   ]
  },
  {
   "cell_type": "markdown",
   "id": "4712b8cc-f4a3-47c3-925f-8297f27bb07c",
   "metadata": {},
   "source": [
    "We don't have any null values so work in this field is not required"
   ]
  },
  {
   "cell_type": "code",
   "execution_count": null,
   "id": "ec64f250-ace6-4f48-a77e-9f2c724970ee",
   "metadata": {},
   "outputs": [],
   "source": [
    "hair.isna().sum()"
   ]
  },
  {
   "cell_type": "code",
   "execution_count": null,
   "id": "82456f19-c43f-47c7-9a1c-c72042e239d7",
   "metadata": {},
   "outputs": [],
   "source": [
    "hair[hair.duplicated()]"
   ]
  },
  {
   "cell_type": "code",
   "execution_count": null,
   "id": "511f92a0-25d3-45c8-80e4-f315299702ea",
   "metadata": {},
   "outputs": [],
   "source": [
    "hair.drop_duplicates(inplace=True, ignore_index=True)"
   ]
  },
  {
   "cell_type": "code",
   "execution_count": null,
   "id": "ff648eb5-5cf8-44e0-b2b6-65938a1952a2",
   "metadata": {},
   "outputs": [],
   "source": [
    "hair.duplicated().sum()"
   ]
  },
  {
   "cell_type": "code",
   "execution_count": null,
   "id": "73ec7ef0-29d2-4a10-aa67-ee051defb86b",
   "metadata": {},
   "outputs": [],
   "source": [
    "count = hair.groupby('Hair_Loss')['Hair_Loss'].count()"
   ]
  },
  {
   "cell_type": "code",
   "execution_count": null,
   "id": "fbd58ace-607e-4296-90bc-1b56116efb40",
   "metadata": {},
   "outputs": [],
   "source": [
    "is_bold = round(count[1] / len(hair) * 100, 2)\n",
    "is_not_bold = round(count[0] / len(hair) * 100, 2)"
   ]
  },
  {
   "cell_type": "code",
   "execution_count": null,
   "id": "7da1f2b0-b7b5-4525-b787-f218abc06b64",
   "metadata": {},
   "outputs": [],
   "source": [
    "sns.set_style(\"whitegrid\")\n",
    "plt.pie([is_bold, is_not_bold], autopct='%1.1f%%',colors = ['cornflowerblue','darksalmon'], \n",
    "         textprops={'fontsize': 12})\n",
    "plt.legend(labels = ['Person is bold', 'Person is not bold'], bbox_to_anchor=(1.2, 1.0))"
   ]
  },
  {
   "cell_type": "code",
   "execution_count": null,
   "id": "8330bc70-9d66-4c2e-9591-26b2db609195",
   "metadata": {},
   "outputs": [],
   "source": [
    "canvas = sns.FacetGrid(hair, col='Hair_Loss')\n",
    "canvas.map(sns.histplot, 'Age', bins = 12, color = 'thistle', kde = True)"
   ]
  },
  {
   "cell_type": "code",
   "execution_count": null,
   "id": "65718bf1-fa00-4eb5-979d-03c4281539aa",
   "metadata": {},
   "outputs": [],
   "source": [
    "plt.figure(figsize = (8,5))\n",
    "sns.countplot(hair, x= 'Stress', hue = 'Hair_Loss', palette = 'Paired')"
   ]
  },
  {
   "cell_type": "code",
   "execution_count": null,
   "id": "306aea71-19f5-460a-8337-5368a54b3442",
   "metadata": {},
   "outputs": [],
   "source": [
    "hair.head()"
   ]
  },
  {
   "cell_type": "code",
   "execution_count": null,
   "id": "ff3403b1-2860-4463-9165-a00e0c96b877",
   "metadata": {},
   "outputs": [],
   "source": [
    "categorical = ['Genetics', 'Hormonal_Changes', 'Poor_Hair_Care_Habits', 'Environmental_Factors', 'Smoking', 'Weight_Loss']"
   ]
  },
  {
   "cell_type": "code",
   "execution_count": null,
   "id": "fa131f22-dd72-4a65-8133-070bbe6c3c6d",
   "metadata": {},
   "outputs": [],
   "source": [
    "plt.figure(figsize=(10, 7))\n",
    "sns.countplot(hair, y = 'Medical_Conditions', hue = 'Hair_Loss', palette = 'muted')"
   ]
  },
  {
   "cell_type": "code",
   "execution_count": null,
   "id": "25b2c831-6661-415b-a4bb-53e0fccbf0c4",
   "metadata": {},
   "outputs": [],
   "source": [
    "plt.figure(figsize=(10, 7))\n",
    "sns.countplot(hair, y = 'Medications&Treatments', hue = 'Hair_Loss', palette = 'muted')"
   ]
  },
  {
   "cell_type": "code",
   "execution_count": null,
   "id": "44334448-1ffc-49fd-8c48-6bec764f3c94",
   "metadata": {},
   "outputs": [],
   "source": [
    "plt.figure(figsize=(10, 7))\n",
    "sns.countplot(hair, y = 'Nutritional_Deficiencies', hue = 'Hair_Loss', palette = 'muted')"
   ]
  },
  {
   "cell_type": "code",
   "execution_count": null,
   "id": "25212b8f-a7d4-4cab-86c8-1d498aca47ee",
   "metadata": {},
   "outputs": [],
   "source": [
    "categorical = ['Genetics', 'Hormonal_Changes', 'Poor_Hair_Care_Habits', 'Environmental_Factors', 'Smoking', 'Weight_Loss']\n",
    "\n",
    "# Ustawienie układu wykresów\n",
    "fig, axes = plt.subplots(2, 3, figsize=(12, 10))  # 3 wiersze, 2 kolumny\n",
    "\n",
    "# Iteracja przez listę kategorii i tworzenie wykresu kołowego dla każdej z nich\n",
    "for ax, category in zip(axes.flatten(), categorical):\n",
    "    counts = hair[category].value_counts()\n",
    "    ax.pie(counts, labels=counts.index, autopct='%1.1f%%', colors=['skyblue', 'pink'])\n",
    "    ax.set_title(category.replace('_', ' '))\n",
    "\n",
    "plt.tight_layout()\n",
    "plt.show()"
   ]
  },
  {
   "cell_type": "code",
   "execution_count": null,
   "id": "3061e7af-1667-43b3-878f-e7a3a8f873d1",
   "metadata": {},
   "outputs": [],
   "source": [
    "hair.info()"
   ]
  },
  {
   "cell_type": "code",
   "execution_count": null,
   "id": "413c1e74-e9ab-493a-99b7-d1f22145ee0e",
   "metadata": {},
   "outputs": [],
   "source": [
    "hair.apply(lambda x: x.unique())"
   ]
  },
  {
   "cell_type": "markdown",
   "id": "4f081aa5-e7b1-478c-bdf1-d6235db14929",
   "metadata": {},
   "source": [
    "Let's change all yes no columns to binary"
   ]
  },
  {
   "cell_type": "code",
   "execution_count": null,
   "id": "186afb92-f0d5-4973-8c5b-ec2d469a1915",
   "metadata": {},
   "outputs": [],
   "source": [
    "binary_columns = ['Genetics', 'Hormonal_Changes', 'Poor_Hair_Care_Habits', 'Environmental_Factors', 'Smoking', 'Weight_Loss']\n",
    "\n",
    "def change_colums(df, columns):\n",
    "    for column in columns:\n",
    "        df[column] = df[column].map({'Yes':1, 'No':0})\n",
    "change_colums(hair,binary_columns)"
   ]
  },
  {
   "cell_type": "code",
   "execution_count": null,
   "id": "5768c939-575f-4ec8-9faa-bd854183b8d0",
   "metadata": {},
   "outputs": [],
   "source": [
    "hair.apply(lambda x: x.unique())"
   ]
  },
  {
   "cell_type": "markdown",
   "id": "e0470a86-2e11-4d1e-bb81-99c9ea7ddd4a",
   "metadata": {},
   "source": [
    "Modifiaction column with order - Stress                                                  "
   ]
  },
  {
   "cell_type": "code",
   "execution_count": null,
   "id": "520e46c5-60c2-4d79-b315-1564b51a8c7e",
   "metadata": {},
   "outputs": [],
   "source": [
    "hair['Stress'] = hair['Stress'].map({'Low': 1, 'Moderate' : 2, 'High' : 3})"
   ]
  },
  {
   "cell_type": "code",
   "execution_count": null,
   "id": "dec5c4b9-3f75-42bf-adb1-d68fa7b45679",
   "metadata": {},
   "outputs": [],
   "source": [
    "hair.apply(lambda x: x.unique())"
   ]
  },
  {
   "cell_type": "code",
   "execution_count": null,
   "id": "79f8165c-c196-4bbe-999c-3927e9c4128e",
   "metadata": {},
   "outputs": [],
   "source": [
    "hair['Medical_Conditions'].value_counts()"
   ]
  },
  {
   "cell_type": "code",
   "execution_count": null,
   "id": "bb69a4b8-f3fe-493a-b04e-b38fefc726ea",
   "metadata": {},
   "outputs": [],
   "source": [
    "hair['Medications&Treatments'].value_counts()"
   ]
  },
  {
   "cell_type": "code",
   "execution_count": null,
   "id": "2538cf85-078e-4224-bdee-87dd563156cf",
   "metadata": {},
   "outputs": [],
   "source": [
    "hair['Nutritional_Deficiencies'].value_counts()"
   ]
  },
  {
   "cell_type": "code",
   "execution_count": null,
   "id": "ef14822f-26aa-4d5a-bf7a-da79efb47fa4",
   "metadata": {},
   "outputs": [],
   "source": [
    "hair = pd.get_dummies(hair,columns = ['Nutritional_Deficiencies','Medications&Treatments', 'Medical_Conditions'],drop_first=True )"
   ]
  },
  {
   "cell_type": "code",
   "execution_count": null,
   "id": "e0e3df78-3cbc-4372-9f25-482cc03c5444",
   "metadata": {},
   "outputs": [],
   "source": [
    "hair.columns"
   ]
  },
  {
   "cell_type": "code",
   "execution_count": null,
   "id": "ace58a96-396b-442f-8318-7077c93c6a0b",
   "metadata": {},
   "outputs": [],
   "source": [
    "hair = hair.loc[:, ~hair.columns.str.contains('No Data')]"
   ]
  },
  {
   "cell_type": "code",
   "execution_count": null,
   "id": "dd5ce4b5-559a-46af-bbdd-3c84be96fca6",
   "metadata": {},
   "outputs": [],
   "source": [
    "hair.columns"
   ]
  },
  {
   "cell_type": "code",
   "execution_count": null,
   "id": "beadbf60-96e2-4bad-a524-ee32a864a2f0",
   "metadata": {},
   "outputs": [],
   "source": [
    "hair.info()"
   ]
  },
  {
   "cell_type": "code",
   "execution_count": null,
   "id": "2ebf10c0-ed11-4dbe-a7e8-ec6b43d6a180",
   "metadata": {},
   "outputs": [],
   "source": [
    "hair.head()"
   ]
  },
  {
   "cell_type": "code",
   "execution_count": null,
   "id": "02bf511e-f58b-4cce-aee6-900014334c63",
   "metadata": {},
   "outputs": [],
   "source": [
    "from sklearn.model_selection import train_test_split "
   ]
  },
  {
   "cell_type": "code",
   "execution_count": null,
   "id": "e25a69c5-85c5-401b-bcfd-2a5054d0506a",
   "metadata": {},
   "outputs": [],
   "source": [
    "X = hair.drop('Hair_Loss', axis = 1)\n",
    "y = hair['Hair_Loss']"
   ]
  },
  {
   "cell_type": "code",
   "execution_count": null,
   "id": "6fa9521c-ee22-44e3-97d5-ab95ccdefce5",
   "metadata": {},
   "outputs": [],
   "source": [
    "X_train, X_test, y_train, y_test = train_test_split(X, y, test_size=0.2, random_state=101)"
   ]
  },
  {
   "cell_type": "code",
   "execution_count": null,
   "id": "8ed3f67e-c442-40d1-abeb-8109837789e9",
   "metadata": {},
   "outputs": [],
   "source": [
    "print(X_train.shape, X_test.shape)"
   ]
  },
  {
   "cell_type": "code",
   "execution_count": null,
   "id": "fd92628a-a0b0-4fd1-a268-0be2e02b3778",
   "metadata": {},
   "outputs": [],
   "source": [
    "from sklearn import preprocessing"
   ]
  },
  {
   "cell_type": "code",
   "execution_count": null,
   "id": "85ed155c-6151-4307-aaef-ed6fd1a5a427",
   "metadata": {},
   "outputs": [],
   "source": [
    "scaler = preprocessing.StandardScaler().fit(X_train)\n",
    "X_train = scaler.transform(X_train)\n",
    "X_test = scaler.transform(X_test)"
   ]
  },
  {
   "cell_type": "code",
   "execution_count": null,
   "id": "d17198c8-0a0d-4bfa-a5d9-289895a96a97",
   "metadata": {},
   "outputs": [],
   "source": [
    "from sklearn.linear_model import LogisticRegression"
   ]
  },
  {
   "cell_type": "code",
   "execution_count": null,
   "id": "d46b32d9-6a04-4f01-b525-d9f77442ffae",
   "metadata": {},
   "outputs": [],
   "source": [
    "logreg = LogisticRegression(C = 0.1,random_state= 101,).fit(X_train, y_train,)"
   ]
  },
  {
   "cell_type": "code",
   "execution_count": null,
   "id": "e3f29033-0ceb-43c2-933c-a8cc1fb5e6da",
   "metadata": {},
   "outputs": [],
   "source": [
    "predictions = logreg.predict(X_test)"
   ]
  },
  {
   "cell_type": "code",
   "execution_count": null,
   "id": "d82dc60f-6bed-42ae-86fe-41648d407834",
   "metadata": {},
   "outputs": [],
   "source": [
    "from sklearn.metrics import confusion_matrix, classification_report"
   ]
  },
  {
   "cell_type": "code",
   "execution_count": null,
   "id": "a2cae04b-86c8-4a94-9842-45aae26e24ce",
   "metadata": {},
   "outputs": [],
   "source": [
    "print(classification_report(y_test, predictions))"
   ]
  },
  {
   "cell_type": "code",
   "execution_count": null,
   "id": "f72b9d73-9b5a-48c8-9400-04832dc4215e",
   "metadata": {},
   "outputs": [],
   "source": [
    "predictions = logreg.predict(X_train)\n",
    "print(classification_report(y_train, predictions))"
   ]
  },
  {
   "cell_type": "code",
   "execution_count": null,
   "id": "20a009ce-4112-4fbe-b4ac-d478c7dddaa8",
   "metadata": {},
   "outputs": [],
   "source": [
    "from sklearn.model_selection import GridSearchCV, cross_val_score\n",
    "import numpy as np\n",
    "\n",
    "def forward_selection_with_gridsearch(model, param_grid, X, y, cv=5):\n",
    "    best_score = 0\n",
    "    best_model = None\n",
    "    best_features = []\n",
    "    available_features = list(range(X.shape[1]))\n",
    "    while available_features:\n",
    "        scores = []\n",
    "        for feature in available_features:\n",
    "            features_to_test = best_features + [feature]\n",
    "            X_test = X[:, features_to_test]\n",
    "            \n",
    "            grid_search = GridSearchCV(model, param_grid, cv=cv)\n",
    "            grid_search.fit(X_test, y)\n",
    "            score = np.mean(cross_val_score(grid_search.best_estimator_, X_test, y, cv=cv))\n",
    "            \n",
    "            scores.append((score, feature, grid_search.best_estimator_))\n",
    "        \n",
    "        scores.sort(reverse=True)\n",
    "        if scores[0][0] > best_score:\n",
    "            best_score, feature_to_add, best_model = scores[0]\n",
    "            best_features.append(feature_to_add)\n",
    "            available_features.remove(feature_to_add)\n",
    "            print(f\"Feature {feature_to_add} added, score: {best_score}\")\n",
    "        else:\n",
    "            break\n",
    "    \n",
    "    print(f\"Best score: {best_score}\")\n",
    "    print(f\"Selected features: {best_features}\")\n",
    "    return best_model, best_features\n",
    "\n",
    "# Użycie przykładowego modelu i danych\n",
    "# model = TwojModel()\n",
    "# param_grid = {'parametr1': [wartości], 'parametr2': [wartości]}\n",
    "# X = dane_wejściowe\n",
    "# y = etykiety\n",
    "# best_model, best_features = forward_selection_with_gridsearch(model, param_grid, X, y)\n"
   ]
  },
  {
   "cell_type": "code",
   "execution_count": null,
   "id": "82a8d846-1885-4c56-881b-5860193af6e9",
   "metadata": {},
   "outputs": [],
   "source": []
  }
 ],
 "metadata": {
  "kernelspec": {
   "display_name": "Python 3 (ipykernel)",
   "language": "python",
   "name": "python3"
  },
  "language_info": {
   "codemirror_mode": {
    "name": "ipython",
    "version": 3
   },
   "file_extension": ".py",
   "mimetype": "text/x-python",
   "name": "python",
   "nbconvert_exporter": "python",
   "pygments_lexer": "ipython3",
   "version": "3.9.18"
  }
 },
 "nbformat": 4,
 "nbformat_minor": 5
}
